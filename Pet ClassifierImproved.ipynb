{
 "cells": [
  {
   "cell_type": "markdown",
   "metadata": {},
   "source": [
    "## The image data for this program can be downloaded from \n",
    "https://www.kaggle.com/dhirensk/cats-vs-dogs-training8000test2000"
   ]
  },
  {
   "cell_type": "markdown",
   "metadata": {},
   "source": [
    "## Training our Pet Classifier"
   ]
  },
  {
   "cell_type": "code",
   "execution_count": 1,
   "metadata": {},
   "outputs": [
    {
     "name": "stderr",
     "output_type": "stream",
     "text": [
      "Using TensorFlow backend.\n"
     ]
    }
   ],
   "source": [
    "import numpy as np\n",
    "import pandas as pd\n",
    "import matplotlib.pyplot as plt\n",
    "import keras"
   ]
  },
  {
   "cell_type": "code",
   "execution_count": 2,
   "metadata": {},
   "outputs": [],
   "source": [
    "num_classes = 2\n",
    "img_rows,img_cols = 64,64\n",
    "batch_size = 100"
   ]
  },
  {
   "cell_type": "code",
   "execution_count": 3,
   "metadata": {},
   "outputs": [],
   "source": [
    "train_data_dir = '/users/dipit/Documents/MLDL/CNN/Pet Classification/datasets/training_set'\n",
    "validation_data_dir = '/users/dipit/Documents/MLDL/CNN/Pet Classification/datasets/test_set'\n",
    "test_data_dir = '/users/dipit/Documents/MLDL/CNN/Pet Classification/datasets/test_pictures_pets'"
   ]
  },
  {
   "cell_type": "code",
   "execution_count": 5,
   "metadata": {},
   "outputs": [],
   "source": [
    "from keras.preprocessing.image import ImageDataGenerator\n",
    "\n",
    "train_data_gen = ImageDataGenerator(rescale = 1./255,\n",
    "                                   rotation_range = 0.3,\n",
    "                                   width_shift_range = 0.3,\n",
    "                                   height_shift_range = 0.3,\n",
    "                                   zoom_range = 0.3,\n",
    "                                   horizontal_flip = True,\n",
    "                                   vertical_flip = True,\n",
    "                                   fill_mode = 'nearest')"
   ]
  },
  {
   "cell_type": "code",
   "execution_count": 6,
   "metadata": {},
   "outputs": [
    {
     "name": "stdout",
     "output_type": "stream",
     "text": [
      "Found 8000 images belonging to 2 classes.\n"
     ]
    }
   ],
   "source": [
    "train_generator = train_data_gen.flow_from_directory(directory = train_data_dir,\n",
    "                                                    target_size = (img_rows,img_cols),\n",
    "                                                    batch_size = batch_size,\n",
    "                                                    class_mode = 'categorical',\n",
    "                                                    shuffle = True)"
   ]
  },
  {
   "cell_type": "code",
   "execution_count": 7,
   "metadata": {},
   "outputs": [
    {
     "name": "stdout",
     "output_type": "stream",
     "text": [
      "Found 2000 images belonging to 2 classes.\n"
     ]
    }
   ],
   "source": [
    "validation_data_gen = ImageDataGenerator(rescale = 1./255)\n",
    "validation_generator = validation_data_gen.flow_from_directory(directory = validation_data_dir,\n",
    "                                                              target_size = (img_rows,img_cols),\n",
    "                                                              batch_size = batch_size,\n",
    "                                                              class_mode = 'categorical')"
   ]
  },
  {
   "cell_type": "code",
   "execution_count": 8,
   "metadata": {},
   "outputs": [
    {
     "name": "stdout",
     "output_type": "stream",
     "text": [
      "Found 20 images belonging to 2 classes.\n"
     ]
    }
   ],
   "source": [
    "test_data_gen = ImageDataGenerator(rescale = 1./255)\n",
    "test_generator = test_data_gen.flow_from_directory(directory=test_data_dir,\n",
    "                                                  target_size = (img_rows,img_cols),\n",
    "                                                  batch_size = batch_size,\n",
    "                                                  class_mode = 'categorical')"
   ]
  },
  {
   "cell_type": "markdown",
   "metadata": {},
   "source": [
    "## Defining the Model"
   ]
  },
  {
   "cell_type": "code",
   "execution_count": 9,
   "metadata": {
    "scrolled": true
   },
   "outputs": [
    {
     "name": "stdout",
     "output_type": "stream",
     "text": [
      "Model: \"sequential_1\"\n",
      "_________________________________________________________________\n",
      "Layer (type)                 Output Shape              Param #   \n",
      "=================================================================\n",
      "conv2d_1 (Conv2D)            (None, 64, 64, 32)        896       \n",
      "_________________________________________________________________\n",
      "conv2d_2 (Conv2D)            (None, 64, 64, 32)        9248      \n",
      "_________________________________________________________________\n",
      "max_pooling2d_1 (MaxPooling2 (None, 32, 32, 32)        0         \n",
      "_________________________________________________________________\n",
      "batch_normalization_1 (Batch (None, 32, 32, 32)        128       \n",
      "_________________________________________________________________\n",
      "conv2d_3 (Conv2D)            (None, 32, 32, 64)        18496     \n",
      "_________________________________________________________________\n",
      "conv2d_4 (Conv2D)            (None, 32, 32, 64)        36928     \n",
      "_________________________________________________________________\n",
      "max_pooling2d_2 (MaxPooling2 (None, 16, 16, 64)        0         \n",
      "_________________________________________________________________\n",
      "batch_normalization_2 (Batch (None, 16, 16, 64)        256       \n",
      "_________________________________________________________________\n",
      "conv2d_5 (Conv2D)            (None, 16, 16, 64)        36928     \n",
      "_________________________________________________________________\n",
      "conv2d_6 (Conv2D)            (None, 16, 16, 64)        36928     \n",
      "_________________________________________________________________\n",
      "max_pooling2d_3 (MaxPooling2 (None, 8, 8, 64)          0         \n",
      "_________________________________________________________________\n",
      "batch_normalization_3 (Batch (None, 8, 8, 64)          256       \n",
      "_________________________________________________________________\n",
      "conv2d_7 (Conv2D)            (None, 8, 8, 128)         73856     \n",
      "_________________________________________________________________\n",
      "conv2d_8 (Conv2D)            (None, 8, 8, 128)         147584    \n",
      "_________________________________________________________________\n",
      "max_pooling2d_4 (MaxPooling2 (None, 4, 4, 128)         0         \n",
      "_________________________________________________________________\n",
      "batch_normalization_4 (Batch (None, 4, 4, 128)         512       \n",
      "_________________________________________________________________\n",
      "flatten_1 (Flatten)          (None, 2048)              0         \n",
      "_________________________________________________________________\n",
      "dense_1 (Dense)              (None, 128)               262272    \n",
      "_________________________________________________________________\n",
      "batch_normalization_5 (Batch (None, 128)               512       \n",
      "_________________________________________________________________\n",
      "dense_2 (Dense)              (None, 2)                 258       \n",
      "=================================================================\n",
      "Total params: 625,058\n",
      "Trainable params: 624,226\n",
      "Non-trainable params: 832\n",
      "_________________________________________________________________\n"
     ]
    }
   ],
   "source": [
    "from keras.models import Sequential\n",
    "from keras.layers import Conv2D,MaxPooling2D,Flatten,Dense,BatchNormalization\n",
    "\n",
    "def convnet():\n",
    "    model = Sequential([\n",
    "    Conv2D(32,(3,3),padding = 'same',activation = 'relu',input_shape = (img_rows,img_cols,3)),\n",
    "    Conv2D(32,(3,3),activation = 'relu',padding = 'same'),\n",
    "    MaxPooling2D(pool_size=(2,2),strides = 2),\n",
    "    BatchNormalization(),\n",
    "        \n",
    "        \n",
    "    Conv2D(64,(3,3),activation = 'relu',padding = 'same'),\n",
    "    Conv2D(64,(3,3),activation = 'relu',padding='same'),\n",
    "    MaxPooling2D(pool_size=(2,2),strides = 2),\n",
    "    BatchNormalization(),\n",
    "        \n",
    "    Conv2D(64,(3,3),activation = 'relu',padding = 'same'),\n",
    "    Conv2D(64,(3,3),activation = 'relu',padding='same'),\n",
    "    MaxPooling2D(pool_size=(2,2),strides = 2),\n",
    "    BatchNormalization(),\n",
    "        \n",
    "    Conv2D(128,(3,3),activation = 'relu',padding = 'same'),\n",
    "    Conv2D(128,(3,3),activation = 'relu',padding='same'),\n",
    "    MaxPooling2D(pool_size=(2,2),strides = 2),\n",
    "    BatchNormalization(),\n",
    "        \n",
    "    Flatten(),\n",
    "    Dense(128,activation = 'relu'),\n",
    "    BatchNormalization(),\n",
    "    Dense(2,activation = 'sigmoid'),        \n",
    "    ])\n",
    "    return model\n",
    "\n",
    "\n",
    "model = convnet()\n",
    "model.summary()"
   ]
  },
  {
   "cell_type": "code",
   "execution_count": 10,
   "metadata": {},
   "outputs": [],
   "source": [
    "from keras.callbacks import ModelCheckpoint,EarlyStopping,ReduceLROnPlateau\n",
    "#checkpoint = ModelCheckpoint(\"pet_classifier_improved_model.h5\",\n",
    "                            #monitor = 'val_accuracy',\n",
    "                            #mode = 'min',\n",
    "                            #save_best_only = True,\n",
    "                            #verbose = 1)\n",
    "\n",
    "earlystop = EarlyStopping(monitor = 'val_accuracy',\n",
    "                         min_delta = 0,\n",
    "                         patience = 5,\n",
    "                         verbose =1,\n",
    "                         restore_best_weights = True)\n",
    "reduce_lr = ReduceLROnPlateau(monitor = 'val_accuracy',\n",
    "                             factor = 0.2,\n",
    "                             patience = 3,\n",
    "                             verbose = 1,\n",
    "                             min_delta = 0.0001)\n",
    "callbacks = [earlystop,reduce_lr]"
   ]
  },
  {
   "cell_type": "code",
   "execution_count": 11,
   "metadata": {},
   "outputs": [],
   "source": [
    "optimizer = keras.optimizers.Adam(lr = 0.001)\n",
    "model.compile(optimizer = optimizer,\n",
    "             loss = 'categorical_crossentropy',\n",
    "             metrics = ['accuracy'])"
   ]
  },
  {
   "cell_type": "code",
   "execution_count": 12,
   "metadata": {},
   "outputs": [],
   "source": [
    "num_train_samples = 8000\n",
    "num_val_samples = 2000"
   ]
  },
  {
   "cell_type": "code",
   "execution_count": 13,
   "metadata": {
    "scrolled": true
   },
   "outputs": [
    {
     "name": "stdout",
     "output_type": "stream",
     "text": [
      "Epoch 1/20\n",
      "80/80 [==============================] - 143s 2s/step - loss: 0.7007 - accuracy: 0.5729 - val_loss: 0.6960 - val_accuracy: 0.5000\n",
      "Epoch 2/20\n",
      "80/80 [==============================] - 140s 2s/step - loss: 0.6494 - accuracy: 0.6130 - val_loss: 0.6985 - val_accuracy: 0.5620\n",
      "Epoch 3/20\n",
      "80/80 [==============================] - 136s 2s/step - loss: 0.6293 - accuracy: 0.6394 - val_loss: 0.7003 - val_accuracy: 0.4995\n",
      "Epoch 4/20\n",
      "80/80 [==============================] - 136s 2s/step - loss: 0.6184 - accuracy: 0.6528 - val_loss: 0.6456 - val_accuracy: 0.5730\n",
      "Epoch 5/20\n",
      "80/80 [==============================] - 147s 2s/step - loss: 0.5985 - accuracy: 0.6774 - val_loss: 0.7024 - val_accuracy: 0.5900\n",
      "Epoch 6/20\n",
      "80/80 [==============================] - 177s 2s/step - loss: 0.5814 - accuracy: 0.6974 - val_loss: 0.7358 - val_accuracy: 0.5575\n",
      "Epoch 7/20\n",
      "80/80 [==============================] - 136s 2s/step - loss: 0.5757 - accuracy: 0.7064 - val_loss: 0.6738 - val_accuracy: 0.5495\n",
      "Epoch 8/20\n",
      "80/80 [==============================] - 137s 2s/step - loss: 0.5537 - accuracy: 0.7147 - val_loss: 0.9834 - val_accuracy: 0.5750\n",
      "\n",
      "Epoch 00008: ReduceLROnPlateau reducing learning rate to 0.00020000000949949026.\n",
      "Epoch 9/20\n",
      "80/80 [==============================] - 138s 2s/step - loss: 0.5147 - accuracy: 0.7494 - val_loss: 0.4616 - val_accuracy: 0.7545\n",
      "Epoch 10/20\n",
      "80/80 [==============================] - 138s 2s/step - loss: 0.5079 - accuracy: 0.7533 - val_loss: 0.5148 - val_accuracy: 0.7785\n",
      "Epoch 11/20\n",
      "80/80 [==============================] - 135s 2s/step - loss: 0.5017 - accuracy: 0.7520 - val_loss: 0.4341 - val_accuracy: 0.7870\n",
      "Epoch 12/20\n",
      "80/80 [==============================] - 136s 2s/step - loss: 0.4944 - accuracy: 0.7600 - val_loss: 0.3789 - val_accuracy: 0.7645\n",
      "Epoch 13/20\n",
      "80/80 [==============================] - 137s 2s/step - loss: 0.4888 - accuracy: 0.7610 - val_loss: 0.4438 - val_accuracy: 0.7660\n",
      "Epoch 14/20\n",
      "80/80 [==============================] - 136s 2s/step - loss: 0.4845 - accuracy: 0.7691 - val_loss: 0.4291 - val_accuracy: 0.7820\n",
      "\n",
      "Epoch 00014: ReduceLROnPlateau reducing learning rate to 4.0000001899898055e-05.\n",
      "Epoch 15/20\n",
      "80/80 [==============================] - 137s 2s/step - loss: 0.4661 - accuracy: 0.7801 - val_loss: 0.3484 - val_accuracy: 0.7715\n",
      "Epoch 16/20\n",
      "80/80 [==============================] - 136s 2s/step - loss: 0.4554 - accuracy: 0.7845 - val_loss: 0.4951 - val_accuracy: 0.7740\n",
      "Restoring model weights from the end of the best epoch\n",
      "Epoch 00016: early stopping\n"
     ]
    }
   ],
   "source": [
    "history = model.fit_generator(train_generator,\n",
    "                              epochs = 20,\n",
    "                              #steps_per_epoch = (num_train_samples/batch_size),\n",
    "                              validation_data = validation_generator,\n",
    "                              #validation_steps = (num_val_samples/batch_size),\n",
    "                              callbacks = callbacks)"
   ]
  },
  {
   "cell_type": "code",
   "execution_count": 14,
   "metadata": {},
   "outputs": [
    {
     "name": "stdout",
     "output_type": "stream",
     "text": [
      "20/20 [==============================] - 10s 523ms/step\n",
      "\n",
      " Test Result:  79 loss:  1\n"
     ]
    }
   ],
   "source": [
    "scores = model.evaluate_generator(validation_generator,#steps = num_val_samples // batch_size,\n",
    "                                 verbose = 1)\n",
    "print(\"\\n Test Result: %3.f loss:%3.f\" %(scores[1]*100 , scores[0]))"
   ]
  },
  {
   "cell_type": "code",
   "execution_count": 15,
   "metadata": {},
   "outputs": [],
   "source": [
    "model.save('pet_classifier_improved_model.h5')"
   ]
  },
  {
   "cell_type": "code",
   "execution_count": 16,
   "metadata": {},
   "outputs": [],
   "source": [
    "new_model = keras.models.load_model('pet_classifier_improved_model.h5')"
   ]
  },
  {
   "cell_type": "code",
   "execution_count": 17,
   "metadata": {},
   "outputs": [],
   "source": [
    "y_pred = new_model.predict(validation_generator, steps = num_val_samples // batch_size)"
   ]
  },
  {
   "cell_type": "code",
   "execution_count": 18,
   "metadata": {},
   "outputs": [],
   "source": [
    "y_pred_label = np.argmax(y_pred, axis=1)"
   ]
  },
  {
   "cell_type": "code",
   "execution_count": 19,
   "metadata": {},
   "outputs": [
    {
     "data": {
      "text/plain": [
       "array([1, 1, 1, ..., 0, 0, 1])"
      ]
     },
     "execution_count": 19,
     "metadata": {},
     "output_type": "execute_result"
    }
   ],
   "source": [
    "y_pred_label"
   ]
  },
  {
   "cell_type": "markdown",
   "metadata": {},
   "source": [
    "## Confusion Matrix"
   ]
  },
  {
   "cell_type": "code",
   "execution_count": 20,
   "metadata": {},
   "outputs": [
    {
     "name": "stdout",
     "output_type": "stream",
     "text": [
      "Confusion Matrix\n",
      "[[450 550]\n",
      " [466 534]]\n",
      "Classification Report\n",
      "              precision    recall  f1-score   support\n",
      "\n",
      "        cats       0.49      0.45      0.47      1000\n",
      "        dogs       0.49      0.53      0.51      1000\n",
      "\n",
      "    accuracy                           0.49      2000\n",
      "   macro avg       0.49      0.49      0.49      2000\n",
      "weighted avg       0.49      0.49      0.49      2000\n",
      "\n"
     ]
    }
   ],
   "source": [
    "from sklearn.metrics import confusion_matrix,classification_report\n",
    "print('Confusion Matrix')\n",
    "print(confusion_matrix(validation_generator.classes,y_pred_label))\n",
    "print('Classification Report')\n",
    "class_labels = validation_generator.class_indices\n",
    "class_labels = {v: k for k, v in class_labels.items()}\n",
    "classes = list(class_labels.values())\n",
    "print(classification_report(validation_generator.classes,y_pred_label,target_names = classes))"
   ]
  },
  {
   "cell_type": "code",
   "execution_count": 21,
   "metadata": {},
   "outputs": [],
   "source": [
    "from keras.preprocessing import image\n",
    "import os\n",
    "import cv2\n",
    "from os import listdir\n",
    "from os.path import isfile , join\n",
    "import re\n",
    "\n",
    "def draw_test(name,pred,im,true_label):\n",
    "    BLACK = [0,0,0]\n",
    "    expanded_image = cv2.copyMakeBorder(im,160,0,0,500,cv2.BORDER_CONSTANT,value =BLACK)\n",
    "    cv2.putText(expanded_image,\"predicted - \"+pred,(20,60),cv2.FONT_HERSHEY_SIMPLEX,1,(0,0,225),2)\n",
    "    cv2.putText(expanded_image,\"true - \"+true_label,(20,120),cv2.FONT_HERSHEY_SIMPLEX,1,(0,255,0),2)\n",
    "    cv2.imshow(name,expanded_image)\n",
    "    \n",
    "def getRandomImage(path,img_width,img_height):\n",
    "    folders = list(filter(lambda x:os.path.isdir(os.path.join(path,x)),os.listdir(path)))\n",
    "    random_directory = np.random.randint(0,len(folders))\n",
    "    path_class = folders[random_directory]\n",
    "    file_path = path + '/' + path_class\n",
    "    file_names = [f for f in listdir(file_path) if isfile(join(file_path,f))]\n",
    "    random_file_index = np.random.randint(0,len(file_names))\n",
    "    image_name = file_names[random_file_index]\n",
    "    final_path = file_path + \"/\" + image_name\n",
    "    return image.load_img(final_path,target_size = (img_width,img_height)),final_path,path_class\n",
    "\n",
    "img_width,img_height = 64,64\n",
    "\n",
    "files =[]\n",
    "predictions =[]\n",
    "true_labels = []\n",
    "\n",
    "for i in range(0,10):\n",
    "    #path = '/users/dipit/Documents/MLDL/CNN/fruits-360/test-multiple_fruits'\n",
    "    path = '/users/dipit/Documents/MLDL/CNN/Pet Classification/datasets/test_pictures_pets'\n",
    "    img,final_path,true_label = getRandomImage(path,img_width,img_height)\n",
    "    files.append(final_path)\n",
    "    true_labels.append(true_label)\n",
    "    x = image.img_to_array(img)\n",
    "    x = x * 1./255\n",
    "    x = np.expand_dims(x,axis = 0)\n",
    "    images = np.vstack([x])\n",
    "    classes = model.predict_classes(images,batch_size = 10)\n",
    "    predictions.append(classes)\n",
    "    \n",
    "for i in range(0,len(files)):\n",
    "    image = cv2.imread((files[i]))\n",
    "    draw_test(\"Prediction\",class_labels[predictions[i][0]],image,true_labels[i])\n",
    "    cv2.waitKey(0)\n",
    "    \n",
    "cv2.destroyAllWindows()"
   ]
  },
  {
   "cell_type": "code",
   "execution_count": null,
   "metadata": {},
   "outputs": [],
   "source": []
  },
  {
   "cell_type": "code",
   "execution_count": null,
   "metadata": {},
   "outputs": [],
   "source": []
  },
  {
   "cell_type": "code",
   "execution_count": null,
   "metadata": {},
   "outputs": [],
   "source": []
  },
  {
   "cell_type": "code",
   "execution_count": null,
   "metadata": {},
   "outputs": [],
   "source": []
  },
  {
   "cell_type": "code",
   "execution_count": null,
   "metadata": {},
   "outputs": [],
   "source": []
  },
  {
   "cell_type": "code",
   "execution_count": null,
   "metadata": {},
   "outputs": [],
   "source": []
  },
  {
   "cell_type": "code",
   "execution_count": null,
   "metadata": {},
   "outputs": [],
   "source": []
  },
  {
   "cell_type": "code",
   "execution_count": null,
   "metadata": {},
   "outputs": [],
   "source": []
  },
  {
   "cell_type": "code",
   "execution_count": null,
   "metadata": {},
   "outputs": [],
   "source": []
  },
  {
   "cell_type": "code",
   "execution_count": null,
   "metadata": {},
   "outputs": [],
   "source": []
  },
  {
   "cell_type": "code",
   "execution_count": null,
   "metadata": {},
   "outputs": [],
   "source": []
  },
  {
   "cell_type": "code",
   "execution_count": null,
   "metadata": {},
   "outputs": [],
   "source": []
  },
  {
   "cell_type": "code",
   "execution_count": null,
   "metadata": {},
   "outputs": [],
   "source": []
  },
  {
   "cell_type": "code",
   "execution_count": null,
   "metadata": {},
   "outputs": [],
   "source": []
  },
  {
   "cell_type": "code",
   "execution_count": null,
   "metadata": {},
   "outputs": [],
   "source": []
  },
  {
   "cell_type": "code",
   "execution_count": null,
   "metadata": {},
   "outputs": [],
   "source": []
  },
  {
   "cell_type": "code",
   "execution_count": null,
   "metadata": {},
   "outputs": [],
   "source": []
  },
  {
   "cell_type": "code",
   "execution_count": null,
   "metadata": {},
   "outputs": [],
   "source": []
  },
  {
   "cell_type": "code",
   "execution_count": null,
   "metadata": {},
   "outputs": [],
   "source": []
  },
  {
   "cell_type": "code",
   "execution_count": null,
   "metadata": {},
   "outputs": [],
   "source": []
  }
 ],
 "metadata": {
  "kernelspec": {
   "display_name": "Python 3",
   "language": "python",
   "name": "python3"
  },
  "language_info": {
   "codemirror_mode": {
    "name": "ipython",
    "version": 3
   },
   "file_extension": ".py",
   "mimetype": "text/x-python",
   "name": "python",
   "nbconvert_exporter": "python",
   "pygments_lexer": "ipython3",
   "version": "3.7.4"
  }
 },
 "nbformat": 4,
 "nbformat_minor": 2
}
